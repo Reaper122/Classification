{
 "cells": [
  {
   "cell_type": "code",
   "execution_count": 1,
   "id": "08750deb",
   "metadata": {
    "_cell_guid": "b1076dfc-b9ad-4769-8c92-a6c4dae69d19",
    "_uuid": "8f2839f25d086af736a60e9eeb907d3b93b6e0e5",
    "execution": {
     "iopub.execute_input": "2024-04-25T17:40:06.116526Z",
     "iopub.status.busy": "2024-04-25T17:40:06.116156Z",
     "iopub.status.idle": "2024-04-25T17:40:06.989379Z",
     "shell.execute_reply": "2024-04-25T17:40:06.988218Z"
    },
    "papermill": {
     "duration": 0.884719,
     "end_time": "2024-04-25T17:40:06.992902",
     "exception": false,
     "start_time": "2024-04-25T17:40:06.108183",
     "status": "completed"
    },
    "tags": []
   },
   "outputs": [
    {
     "name": "stdout",
     "output_type": "stream",
     "text": [
      "/kaggle/input/playground-series-s4e2/sample_submission.csv\n",
      "/kaggle/input/playground-series-s4e2/train.csv\n",
      "/kaggle/input/playground-series-s4e2/test.csv\n"
     ]
    }
   ],
   "source": [
    "# This Python 3 environment comes with many helpful analytics libraries installed\n",
    "# It is defined by the kaggle/python Docker image: https://github.com/kaggle/docker-python\n",
    "# For example, here's several helpful packages to load\n",
    "\n",
    "import numpy as np # linear algebra\n",
    "import pandas as pd # data processing, CSV file I/O (e.g. pd.read_csv)\n",
    "\n",
    "# Input data files are available in the read-only \"../input/\" directory\n",
    "# For example, running this (by clicking run or pressing Shift+Enter) will list all files under the input directory\n",
    "\n",
    "import os\n",
    "for dirname, _, filenames in os.walk('/kaggle/input'):\n",
    "    for filename in filenames:\n",
    "        print(os.path.join(dirname, filename))\n",
    "\n",
    "# You can write up to 20GB to the current directory (/kaggle/working/) that gets preserved as output when you create a version using \"Save & Run All\" \n",
    "# You can also write temporary files to /kaggle/temp/, but they won't be saved outside of the current session"
   ]
  },
  {
   "cell_type": "code",
   "execution_count": 2,
   "id": "8f04e1e2",
   "metadata": {
    "execution": {
     "iopub.execute_input": "2024-04-25T17:40:07.007224Z",
     "iopub.status.busy": "2024-04-25T17:40:07.006486Z",
     "iopub.status.idle": "2024-04-25T17:40:07.254922Z",
     "shell.execute_reply": "2024-04-25T17:40:07.253628Z"
    },
    "papermill": {
     "duration": 0.258651,
     "end_time": "2024-04-25T17:40:07.257788",
     "exception": false,
     "start_time": "2024-04-25T17:40:06.999137",
     "status": "completed"
    },
    "tags": []
   },
   "outputs": [
    {
     "name": "stdout",
     "output_type": "stream",
     "text": [
      "   id  Gender        Age    Height      Weight family_history_with_overweight  \\\n",
      "0   0    Male  24.443011  1.699998   81.669950                            yes   \n",
      "1   1  Female  18.000000  1.560000   57.000000                            yes   \n",
      "2   2  Female  18.000000  1.711460   50.165754                            yes   \n",
      "3   3  Female  20.952737  1.710730  131.274851                            yes   \n",
      "4   4    Male  31.641081  1.914186   93.798055                            yes   \n",
      "\n",
      "  FAVC      FCVC       NCP        CAEC SMOKE      CH2O SCC       FAF  \\\n",
      "0  yes  2.000000  2.983297   Sometimes    no  2.763573  no  0.000000   \n",
      "1  yes  2.000000  3.000000  Frequently    no  2.000000  no  1.000000   \n",
      "2  yes  1.880534  1.411685   Sometimes    no  1.910378  no  0.866045   \n",
      "3  yes  3.000000  3.000000   Sometimes    no  1.674061  no  1.467863   \n",
      "4  yes  2.679664  1.971472   Sometimes    no  1.979848  no  1.967973   \n",
      "\n",
      "        TUE       CALC                 MTRANS           NObeyesdad  \n",
      "0  0.976473  Sometimes  Public_Transportation  Overweight_Level_II  \n",
      "1  1.000000         no             Automobile        Normal_Weight  \n",
      "2  1.673584         no  Public_Transportation  Insufficient_Weight  \n",
      "3  0.780199  Sometimes  Public_Transportation     Obesity_Type_III  \n",
      "4  0.931721  Sometimes  Public_Transportation  Overweight_Level_II  \n",
      "\n",
      "(20758, 18)\n"
     ]
    }
   ],
   "source": [
    "train=pd.read_csv(\"/kaggle/input/playground-series-s4e2/train.csv\")\n",
    "test=pd.read_csv(\"/kaggle/input/playground-series-s4e2/test.csv\")\n",
    "\n",
    "print(train.head(),end='\\n\\n')\n",
    "print(train.shape)"
   ]
  },
  {
   "cell_type": "code",
   "execution_count": 3,
   "id": "060c112a",
   "metadata": {
    "execution": {
     "iopub.execute_input": "2024-04-25T17:40:07.271793Z",
     "iopub.status.busy": "2024-04-25T17:40:07.270754Z",
     "iopub.status.idle": "2024-04-25T17:40:07.309173Z",
     "shell.execute_reply": "2024-04-25T17:40:07.308034Z"
    },
    "papermill": {
     "duration": 0.047689,
     "end_time": "2024-04-25T17:40:07.311522",
     "exception": false,
     "start_time": "2024-04-25T17:40:07.263833",
     "status": "completed"
    },
    "tags": []
   },
   "outputs": [
    {
     "data": {
      "text/plain": [
       "0"
      ]
     },
     "execution_count": 3,
     "metadata": {},
     "output_type": "execute_result"
    }
   ],
   "source": [
    "train.duplicated().sum()"
   ]
  },
  {
   "cell_type": "code",
   "execution_count": 4,
   "id": "adffb916",
   "metadata": {
    "execution": {
     "iopub.execute_input": "2024-04-25T17:40:07.325722Z",
     "iopub.status.busy": "2024-04-25T17:40:07.324719Z",
     "iopub.status.idle": "2024-04-25T17:40:07.355589Z",
     "shell.execute_reply": "2024-04-25T17:40:07.354443Z"
    },
    "papermill": {
     "duration": 0.040313,
     "end_time": "2024-04-25T17:40:07.357923",
     "exception": false,
     "start_time": "2024-04-25T17:40:07.317610",
     "status": "completed"
    },
    "tags": []
   },
   "outputs": [
    {
     "data": {
      "text/plain": [
       "id                                0\n",
       "Gender                            0\n",
       "Age                               0\n",
       "Height                            0\n",
       "Weight                            0\n",
       "family_history_with_overweight    0\n",
       "FAVC                              0\n",
       "FCVC                              0\n",
       "NCP                               0\n",
       "CAEC                              0\n",
       "SMOKE                             0\n",
       "CH2O                              0\n",
       "SCC                               0\n",
       "FAF                               0\n",
       "TUE                               0\n",
       "CALC                              0\n",
       "MTRANS                            0\n",
       "NObeyesdad                        0\n",
       "dtype: int64"
      ]
     },
     "execution_count": 4,
     "metadata": {},
     "output_type": "execute_result"
    }
   ],
   "source": [
    "train.isna().sum()"
   ]
  },
  {
   "cell_type": "code",
   "execution_count": 5,
   "id": "f974b5c9",
   "metadata": {
    "execution": {
     "iopub.execute_input": "2024-04-25T17:40:07.372003Z",
     "iopub.status.busy": "2024-04-25T17:40:07.371668Z",
     "iopub.status.idle": "2024-04-25T17:40:07.383367Z",
     "shell.execute_reply": "2024-04-25T17:40:07.382584Z"
    },
    "papermill": {
     "duration": 0.021449,
     "end_time": "2024-04-25T17:40:07.385634",
     "exception": false,
     "start_time": "2024-04-25T17:40:07.364185",
     "status": "completed"
    },
    "tags": []
   },
   "outputs": [],
   "source": [
    "y=train['NObeyesdad']\n",
    "X_full=train.drop(['NObeyesdad'],axis=1)"
   ]
  },
  {
   "cell_type": "code",
   "execution_count": 6,
   "id": "d5f70fa1",
   "metadata": {
    "execution": {
     "iopub.execute_input": "2024-04-25T17:40:07.400190Z",
     "iopub.status.busy": "2024-04-25T17:40:07.399548Z",
     "iopub.status.idle": "2024-04-25T17:40:08.547938Z",
     "shell.execute_reply": "2024-04-25T17:40:08.546816Z"
    },
    "papermill": {
     "duration": 1.158557,
     "end_time": "2024-04-25T17:40:08.550593",
     "exception": false,
     "start_time": "2024-04-25T17:40:07.392036",
     "status": "completed"
    },
    "tags": []
   },
   "outputs": [],
   "source": [
    "from sklearn.preprocessing import LabelEncoder\n",
    "\n",
    "le = LabelEncoder()\n",
    "y_num= le.fit_transform(y)"
   ]
  },
  {
   "cell_type": "code",
   "execution_count": 7,
   "id": "c3869657",
   "metadata": {
    "execution": {
     "iopub.execute_input": "2024-04-25T17:40:08.565131Z",
     "iopub.status.busy": "2024-04-25T17:40:08.564734Z",
     "iopub.status.idle": "2024-04-25T17:40:08.593480Z",
     "shell.execute_reply": "2024-04-25T17:40:08.592419Z"
    },
    "papermill": {
     "duration": 0.039128,
     "end_time": "2024-04-25T17:40:08.596173",
     "exception": false,
     "start_time": "2024-04-25T17:40:08.557045",
     "status": "completed"
    },
    "tags": []
   },
   "outputs": [
    {
     "data": {
      "text/html": [
       "<div>\n",
       "<style scoped>\n",
       "    .dataframe tbody tr th:only-of-type {\n",
       "        vertical-align: middle;\n",
       "    }\n",
       "\n",
       "    .dataframe tbody tr th {\n",
       "        vertical-align: top;\n",
       "    }\n",
       "\n",
       "    .dataframe thead th {\n",
       "        text-align: right;\n",
       "    }\n",
       "</style>\n",
       "<table border=\"1\" class=\"dataframe\">\n",
       "  <thead>\n",
       "    <tr style=\"text-align: right;\">\n",
       "      <th></th>\n",
       "      <th>id</th>\n",
       "      <th>Gender</th>\n",
       "      <th>Age</th>\n",
       "      <th>Height</th>\n",
       "      <th>Weight</th>\n",
       "      <th>family_history_with_overweight</th>\n",
       "      <th>FAVC</th>\n",
       "      <th>FCVC</th>\n",
       "      <th>NCP</th>\n",
       "      <th>CAEC</th>\n",
       "      <th>SMOKE</th>\n",
       "      <th>CH2O</th>\n",
       "      <th>SCC</th>\n",
       "      <th>FAF</th>\n",
       "      <th>TUE</th>\n",
       "      <th>CALC</th>\n",
       "      <th>MTRANS</th>\n",
       "    </tr>\n",
       "  </thead>\n",
       "  <tbody>\n",
       "    <tr>\n",
       "      <th>0</th>\n",
       "      <td>0</td>\n",
       "      <td>Male</td>\n",
       "      <td>24.443011</td>\n",
       "      <td>1.699998</td>\n",
       "      <td>81.669950</td>\n",
       "      <td>yes</td>\n",
       "      <td>yes</td>\n",
       "      <td>2.000000</td>\n",
       "      <td>2.983297</td>\n",
       "      <td>Sometimes</td>\n",
       "      <td>no</td>\n",
       "      <td>2.763573</td>\n",
       "      <td>no</td>\n",
       "      <td>0.000000</td>\n",
       "      <td>0.976473</td>\n",
       "      <td>Sometimes</td>\n",
       "      <td>Public_Transportation</td>\n",
       "    </tr>\n",
       "    <tr>\n",
       "      <th>1</th>\n",
       "      <td>1</td>\n",
       "      <td>Female</td>\n",
       "      <td>18.000000</td>\n",
       "      <td>1.560000</td>\n",
       "      <td>57.000000</td>\n",
       "      <td>yes</td>\n",
       "      <td>yes</td>\n",
       "      <td>2.000000</td>\n",
       "      <td>3.000000</td>\n",
       "      <td>Frequently</td>\n",
       "      <td>no</td>\n",
       "      <td>2.000000</td>\n",
       "      <td>no</td>\n",
       "      <td>1.000000</td>\n",
       "      <td>1.000000</td>\n",
       "      <td>no</td>\n",
       "      <td>Automobile</td>\n",
       "    </tr>\n",
       "    <tr>\n",
       "      <th>2</th>\n",
       "      <td>2</td>\n",
       "      <td>Female</td>\n",
       "      <td>18.000000</td>\n",
       "      <td>1.711460</td>\n",
       "      <td>50.165754</td>\n",
       "      <td>yes</td>\n",
       "      <td>yes</td>\n",
       "      <td>1.880534</td>\n",
       "      <td>1.411685</td>\n",
       "      <td>Sometimes</td>\n",
       "      <td>no</td>\n",
       "      <td>1.910378</td>\n",
       "      <td>no</td>\n",
       "      <td>0.866045</td>\n",
       "      <td>1.673584</td>\n",
       "      <td>no</td>\n",
       "      <td>Public_Transportation</td>\n",
       "    </tr>\n",
       "    <tr>\n",
       "      <th>3</th>\n",
       "      <td>3</td>\n",
       "      <td>Female</td>\n",
       "      <td>20.952737</td>\n",
       "      <td>1.710730</td>\n",
       "      <td>131.274851</td>\n",
       "      <td>yes</td>\n",
       "      <td>yes</td>\n",
       "      <td>3.000000</td>\n",
       "      <td>3.000000</td>\n",
       "      <td>Sometimes</td>\n",
       "      <td>no</td>\n",
       "      <td>1.674061</td>\n",
       "      <td>no</td>\n",
       "      <td>1.467863</td>\n",
       "      <td>0.780199</td>\n",
       "      <td>Sometimes</td>\n",
       "      <td>Public_Transportation</td>\n",
       "    </tr>\n",
       "    <tr>\n",
       "      <th>4</th>\n",
       "      <td>4</td>\n",
       "      <td>Male</td>\n",
       "      <td>31.641081</td>\n",
       "      <td>1.914186</td>\n",
       "      <td>93.798055</td>\n",
       "      <td>yes</td>\n",
       "      <td>yes</td>\n",
       "      <td>2.679664</td>\n",
       "      <td>1.971472</td>\n",
       "      <td>Sometimes</td>\n",
       "      <td>no</td>\n",
       "      <td>1.979848</td>\n",
       "      <td>no</td>\n",
       "      <td>1.967973</td>\n",
       "      <td>0.931721</td>\n",
       "      <td>Sometimes</td>\n",
       "      <td>Public_Transportation</td>\n",
       "    </tr>\n",
       "    <tr>\n",
       "      <th>...</th>\n",
       "      <td>...</td>\n",
       "      <td>...</td>\n",
       "      <td>...</td>\n",
       "      <td>...</td>\n",
       "      <td>...</td>\n",
       "      <td>...</td>\n",
       "      <td>...</td>\n",
       "      <td>...</td>\n",
       "      <td>...</td>\n",
       "      <td>...</td>\n",
       "      <td>...</td>\n",
       "      <td>...</td>\n",
       "      <td>...</td>\n",
       "      <td>...</td>\n",
       "      <td>...</td>\n",
       "      <td>...</td>\n",
       "      <td>...</td>\n",
       "    </tr>\n",
       "    <tr>\n",
       "      <th>20753</th>\n",
       "      <td>20753</td>\n",
       "      <td>Male</td>\n",
       "      <td>25.137087</td>\n",
       "      <td>1.766626</td>\n",
       "      <td>114.187096</td>\n",
       "      <td>yes</td>\n",
       "      <td>yes</td>\n",
       "      <td>2.919584</td>\n",
       "      <td>3.000000</td>\n",
       "      <td>Sometimes</td>\n",
       "      <td>no</td>\n",
       "      <td>2.151809</td>\n",
       "      <td>no</td>\n",
       "      <td>1.330519</td>\n",
       "      <td>0.196680</td>\n",
       "      <td>Sometimes</td>\n",
       "      <td>Public_Transportation</td>\n",
       "    </tr>\n",
       "    <tr>\n",
       "      <th>20754</th>\n",
       "      <td>20754</td>\n",
       "      <td>Male</td>\n",
       "      <td>18.000000</td>\n",
       "      <td>1.710000</td>\n",
       "      <td>50.000000</td>\n",
       "      <td>no</td>\n",
       "      <td>yes</td>\n",
       "      <td>3.000000</td>\n",
       "      <td>4.000000</td>\n",
       "      <td>Frequently</td>\n",
       "      <td>no</td>\n",
       "      <td>1.000000</td>\n",
       "      <td>no</td>\n",
       "      <td>2.000000</td>\n",
       "      <td>1.000000</td>\n",
       "      <td>Sometimes</td>\n",
       "      <td>Public_Transportation</td>\n",
       "    </tr>\n",
       "    <tr>\n",
       "      <th>20755</th>\n",
       "      <td>20755</td>\n",
       "      <td>Male</td>\n",
       "      <td>20.101026</td>\n",
       "      <td>1.819557</td>\n",
       "      <td>105.580491</td>\n",
       "      <td>yes</td>\n",
       "      <td>yes</td>\n",
       "      <td>2.407817</td>\n",
       "      <td>3.000000</td>\n",
       "      <td>Sometimes</td>\n",
       "      <td>no</td>\n",
       "      <td>2.000000</td>\n",
       "      <td>no</td>\n",
       "      <td>1.158040</td>\n",
       "      <td>1.198439</td>\n",
       "      <td>no</td>\n",
       "      <td>Public_Transportation</td>\n",
       "    </tr>\n",
       "    <tr>\n",
       "      <th>20756</th>\n",
       "      <td>20756</td>\n",
       "      <td>Male</td>\n",
       "      <td>33.852953</td>\n",
       "      <td>1.700000</td>\n",
       "      <td>83.520113</td>\n",
       "      <td>yes</td>\n",
       "      <td>yes</td>\n",
       "      <td>2.671238</td>\n",
       "      <td>1.971472</td>\n",
       "      <td>Sometimes</td>\n",
       "      <td>no</td>\n",
       "      <td>2.144838</td>\n",
       "      <td>no</td>\n",
       "      <td>0.000000</td>\n",
       "      <td>0.973834</td>\n",
       "      <td>no</td>\n",
       "      <td>Automobile</td>\n",
       "    </tr>\n",
       "    <tr>\n",
       "      <th>20757</th>\n",
       "      <td>20757</td>\n",
       "      <td>Male</td>\n",
       "      <td>26.680376</td>\n",
       "      <td>1.816547</td>\n",
       "      <td>118.134898</td>\n",
       "      <td>yes</td>\n",
       "      <td>yes</td>\n",
       "      <td>3.000000</td>\n",
       "      <td>3.000000</td>\n",
       "      <td>Sometimes</td>\n",
       "      <td>no</td>\n",
       "      <td>2.003563</td>\n",
       "      <td>no</td>\n",
       "      <td>0.684487</td>\n",
       "      <td>0.713823</td>\n",
       "      <td>Sometimes</td>\n",
       "      <td>Public_Transportation</td>\n",
       "    </tr>\n",
       "  </tbody>\n",
       "</table>\n",
       "<p>20758 rows × 17 columns</p>\n",
       "</div>"
      ],
      "text/plain": [
       "          id  Gender        Age    Height      Weight  \\\n",
       "0          0    Male  24.443011  1.699998   81.669950   \n",
       "1          1  Female  18.000000  1.560000   57.000000   \n",
       "2          2  Female  18.000000  1.711460   50.165754   \n",
       "3          3  Female  20.952737  1.710730  131.274851   \n",
       "4          4    Male  31.641081  1.914186   93.798055   \n",
       "...      ...     ...        ...       ...         ...   \n",
       "20753  20753    Male  25.137087  1.766626  114.187096   \n",
       "20754  20754    Male  18.000000  1.710000   50.000000   \n",
       "20755  20755    Male  20.101026  1.819557  105.580491   \n",
       "20756  20756    Male  33.852953  1.700000   83.520113   \n",
       "20757  20757    Male  26.680376  1.816547  118.134898   \n",
       "\n",
       "      family_history_with_overweight FAVC      FCVC       NCP        CAEC  \\\n",
       "0                                yes  yes  2.000000  2.983297   Sometimes   \n",
       "1                                yes  yes  2.000000  3.000000  Frequently   \n",
       "2                                yes  yes  1.880534  1.411685   Sometimes   \n",
       "3                                yes  yes  3.000000  3.000000   Sometimes   \n",
       "4                                yes  yes  2.679664  1.971472   Sometimes   \n",
       "...                              ...  ...       ...       ...         ...   \n",
       "20753                            yes  yes  2.919584  3.000000   Sometimes   \n",
       "20754                             no  yes  3.000000  4.000000  Frequently   \n",
       "20755                            yes  yes  2.407817  3.000000   Sometimes   \n",
       "20756                            yes  yes  2.671238  1.971472   Sometimes   \n",
       "20757                            yes  yes  3.000000  3.000000   Sometimes   \n",
       "\n",
       "      SMOKE      CH2O SCC       FAF       TUE       CALC  \\\n",
       "0        no  2.763573  no  0.000000  0.976473  Sometimes   \n",
       "1        no  2.000000  no  1.000000  1.000000         no   \n",
       "2        no  1.910378  no  0.866045  1.673584         no   \n",
       "3        no  1.674061  no  1.467863  0.780199  Sometimes   \n",
       "4        no  1.979848  no  1.967973  0.931721  Sometimes   \n",
       "...     ...       ...  ..       ...       ...        ...   \n",
       "20753    no  2.151809  no  1.330519  0.196680  Sometimes   \n",
       "20754    no  1.000000  no  2.000000  1.000000  Sometimes   \n",
       "20755    no  2.000000  no  1.158040  1.198439         no   \n",
       "20756    no  2.144838  no  0.000000  0.973834         no   \n",
       "20757    no  2.003563  no  0.684487  0.713823  Sometimes   \n",
       "\n",
       "                      MTRANS  \n",
       "0      Public_Transportation  \n",
       "1                 Automobile  \n",
       "2      Public_Transportation  \n",
       "3      Public_Transportation  \n",
       "4      Public_Transportation  \n",
       "...                      ...  \n",
       "20753  Public_Transportation  \n",
       "20754  Public_Transportation  \n",
       "20755  Public_Transportation  \n",
       "20756             Automobile  \n",
       "20757  Public_Transportation  \n",
       "\n",
       "[20758 rows x 17 columns]"
      ]
     },
     "execution_count": 7,
     "metadata": {},
     "output_type": "execute_result"
    }
   ],
   "source": [
    "X_full"
   ]
  },
  {
   "cell_type": "code",
   "execution_count": 8,
   "id": "5886b0ff",
   "metadata": {
    "execution": {
     "iopub.execute_input": "2024-04-25T17:40:08.612367Z",
     "iopub.status.busy": "2024-04-25T17:40:08.611259Z",
     "iopub.status.idle": "2024-04-25T17:40:08.616882Z",
     "shell.execute_reply": "2024-04-25T17:40:08.615830Z"
    },
    "papermill": {
     "duration": 0.016177,
     "end_time": "2024-04-25T17:40:08.619263",
     "exception": false,
     "start_time": "2024-04-25T17:40:08.603086",
     "status": "completed"
    },
    "tags": []
   },
   "outputs": [],
   "source": [
    "drop_col=['id','Gender']"
   ]
  },
  {
   "cell_type": "code",
   "execution_count": 9,
   "id": "055a896b",
   "metadata": {
    "execution": {
     "iopub.execute_input": "2024-04-25T17:40:08.634862Z",
     "iopub.status.busy": "2024-04-25T17:40:08.634468Z",
     "iopub.status.idle": "2024-04-25T17:40:08.659591Z",
     "shell.execute_reply": "2024-04-25T17:40:08.658799Z"
    },
    "papermill": {
     "duration": 0.035417,
     "end_time": "2024-04-25T17:40:08.661703",
     "exception": false,
     "start_time": "2024-04-25T17:40:08.626286",
     "status": "completed"
    },
    "tags": []
   },
   "outputs": [
    {
     "data": {
      "text/plain": [
       "Gender                            2\n",
       "family_history_with_overweight    2\n",
       "FAVC                              2\n",
       "CAEC                              4\n",
       "SMOKE                             2\n",
       "SCC                               2\n",
       "CALC                              3\n",
       "MTRANS                            5\n",
       "dtype: int64"
      ]
     },
     "execution_count": 9,
     "metadata": {},
     "output_type": "execute_result"
    }
   ],
   "source": [
    "X_full.select_dtypes(include='object').nunique()"
   ]
  },
  {
   "cell_type": "code",
   "execution_count": 10,
   "id": "33d1f59f",
   "metadata": {
    "execution": {
     "iopub.execute_input": "2024-04-25T17:40:08.677563Z",
     "iopub.status.busy": "2024-04-25T17:40:08.676665Z",
     "iopub.status.idle": "2024-04-25T17:40:08.684781Z",
     "shell.execute_reply": "2024-04-25T17:40:08.683756Z"
    },
    "papermill": {
     "duration": 0.018305,
     "end_time": "2024-04-25T17:40:08.687018",
     "exception": false,
     "start_time": "2024-04-25T17:40:08.668713",
     "status": "completed"
    },
    "tags": []
   },
   "outputs": [],
   "source": [
    "num_col=X_full.select_dtypes(exclude='object').columns.tolist()\n",
    "cat_col=X_full.select_dtypes(include='object').columns.tolist()"
   ]
  },
  {
   "cell_type": "code",
   "execution_count": 11,
   "id": "76fa1a98",
   "metadata": {
    "execution": {
     "iopub.execute_input": "2024-04-25T17:40:08.703781Z",
     "iopub.status.busy": "2024-04-25T17:40:08.703348Z",
     "iopub.status.idle": "2024-04-25T17:40:09.783194Z",
     "shell.execute_reply": "2024-04-25T17:40:09.782258Z"
    },
    "papermill": {
     "duration": 1.090416,
     "end_time": "2024-04-25T17:40:09.785432",
     "exception": false,
     "start_time": "2024-04-25T17:40:08.695016",
     "status": "completed"
    },
    "tags": []
   },
   "outputs": [
    {
     "data": {
      "text/plain": [
       "<Axes: >"
      ]
     },
     "execution_count": 11,
     "metadata": {},
     "output_type": "execute_result"
    },
    {
     "data": {
      "image/png": "[encoded data removed]",
      "text/plain": [
       "<Figure size 1500x600 with 2 Axes>"
      ]
     },
     "metadata": {},
     "output_type": "display_data"
    }
   ],
   "source": [
    "import seaborn as sns\n",
    "import matplotlib.pyplot as plt\n",
    "\n",
    "plt.figure(figsize=(15, 6))\n",
    "sns.heatmap(X_full[num_col].corr(),annot=True,fmt=\".1f\", linewidths=.5, cmap='coolwarm')"
   ]
  },
  {
   "cell_type": "code",
   "execution_count": 12,
   "id": "a773cf5f",
   "metadata": {
    "execution": {
     "iopub.execute_input": "2024-04-25T17:40:09.804388Z",
     "iopub.status.busy": "2024-04-25T17:40:09.803586Z",
     "iopub.status.idle": "2024-04-25T17:40:09.818544Z",
     "shell.execute_reply": "2024-04-25T17:40:09.817503Z"
    },
    "papermill": {
     "duration": 0.027292,
     "end_time": "2024-04-25T17:40:09.821146",
     "exception": false,
     "start_time": "2024-04-25T17:40:09.793854",
     "status": "completed"
    },
    "tags": []
   },
   "outputs": [],
   "source": [
    "from sklearn.compose import ColumnTransformer\n",
    "from sklearn.pipeline import Pipeline\n",
    "from sklearn.preprocessing import OneHotEncoder\n",
    "\n",
    "preprocessor = ColumnTransformer(\n",
    "    transformers=[\n",
    "        ('cat', OneHotEncoder(handle_unknown='ignore'), cat_col),\n",
    "        ('dropper', 'drop', drop_col)\n",
    "    ])"
   ]
  },
  {
   "cell_type": "code",
   "execution_count": 13,
   "id": "7691c573",
   "metadata": {
    "execution": {
     "iopub.execute_input": "2024-04-25T17:40:09.839317Z",
     "iopub.status.busy": "2024-04-25T17:40:09.838939Z",
     "iopub.status.idle": "2024-04-25T17:40:10.117963Z",
     "shell.execute_reply": "2024-04-25T17:40:10.116859Z"
    },
    "papermill": {
     "duration": 0.291577,
     "end_time": "2024-04-25T17:40:10.121054",
     "exception": false,
     "start_time": "2024-04-25T17:40:09.829477",
     "status": "completed"
    },
    "tags": []
   },
   "outputs": [],
   "source": [
    "from xgboost import XGBClassifier\n",
    "\n",
    "my_model = XGBClassifier()\n",
    "\n",
    "my_pipeline = Pipeline(steps=[('preprocessor', preprocessor),\n",
    "                              ('model', my_model)\n",
    "                             ])"
   ]
  },
  {
   "cell_type": "code",
   "execution_count": 14,
   "id": "5937f74d",
   "metadata": {
    "execution": {
     "iopub.execute_input": "2024-04-25T17:40:10.140506Z",
     "iopub.status.busy": "2024-04-25T17:40:10.139876Z",
     "iopub.status.idle": "2024-04-25T17:40:11.747578Z",
     "shell.execute_reply": "2024-04-25T17:40:11.746467Z"
    },
    "papermill": {
     "duration": 1.619989,
     "end_time": "2024-04-25T17:40:11.750229",
     "exception": false,
     "start_time": "2024-04-25T17:40:10.130240",
     "status": "completed"
    },
    "tags": []
   },
   "outputs": [],
   "source": [
    "predictions = my_pipeline.fit(X_full,y_num).predict(test)\n",
    "predictions = le.inverse_transform(predictions)"
   ]
  },
  {
   "cell_type": "code",
   "execution_count": 15,
   "id": "092bec63",
   "metadata": {
    "execution": {
     "iopub.execute_input": "2024-04-25T17:40:11.771312Z",
     "iopub.status.busy": "2024-04-25T17:40:11.770935Z",
     "iopub.status.idle": "2024-04-25T17:40:11.809149Z",
     "shell.execute_reply": "2024-04-25T17:40:11.807877Z"
    },
    "papermill": {
     "duration": 0.050483,
     "end_time": "2024-04-25T17:40:11.811596",
     "exception": false,
     "start_time": "2024-04-25T17:40:11.761113",
     "status": "completed"
    },
    "tags": []
   },
   "outputs": [
    {
     "name": "stdout",
     "output_type": "stream",
     "text": [
      "Your submission was successfully saved!\n"
     ]
    }
   ],
   "source": [
    "output = pd.DataFrame({'id': test.id, 'NObeyesdad': predictions})\n",
    "output.to_csv('submission.csv', index=False)\n",
    "print(\"Your submission was successfully saved!\")"
   ]
  }
 ],
 "metadata": {
  "kaggle": {
   "accelerator": "none",
   "dataSources": [
    {
     "databundleVersionId": 7609535,
     "sourceId": 68479,
     "sourceType": "competition"
    }
   ],
   "dockerImageVersionId": 30698,
   "isGpuEnabled": false,
   "isInternetEnabled": true,
   "language": "python",
   "sourceType": "notebook"
  },
  "kernelspec": {
   "display_name": "Python 3",
   "language": "python",
   "name": "python3"
  },
  "language_info": {
   "codemirror_mode": {
    "name": "ipython",
    "version": 3
   },
   "file_extension": ".py",
   "mimetype": "text/x-python",
   "name": "python",
   "nbconvert_exporter": "python",
   "pygments_lexer": "ipython3",
   "version": "3.10.13"
  },
  "papermill": {
   "default_parameters": {},
   "duration": 9.288747,
   "end_time": "2024-04-25T17:40:12.441040",
   "environment_variables": {},
   "exception": null,
   "input_path": "__notebook__.ipynb",
   "output_path": "__notebook__.ipynb",
   "parameters": {},
   "start_time": "2024-04-25T17:40:03.152293",
   "version": "2.5.0"
  }
 },
 "nbformat": 4,
 "nbformat_minor": 5
}
