{
 "cells": [
  {
   "cell_type": "code",
   "execution_count": 1,
   "id": "f65306bb",
   "metadata": {
    "_cell_guid": "b1076dfc-b9ad-4769-8c92-a6c4dae69d19",
    "_uuid": "8f2839f25d086af736a60e9eeb907d3b93b6e0e5",
    "execution": {
     "iopub.execute_input": "2024-04-03T03:01:41.016184Z",
     "iopub.status.busy": "2024-04-03T03:01:41.015768Z",
     "iopub.status.idle": "2024-04-03T03:01:41.796384Z",
     "shell.execute_reply": "2024-04-03T03:01:41.795323Z"
    },
    "papermill": {
     "duration": 0.7886,
     "end_time": "2024-04-03T03:01:41.798602",
     "exception": false,
     "start_time": "2024-04-03T03:01:41.010002",
     "status": "completed"
    },
    "tags": []
   },
   "outputs": [
    {
     "name": "stdout",
     "output_type": "stream",
     "text": [
      "/kaggle/input/nlp-getting-started/sample_submission.csv\n",
      "/kaggle/input/nlp-getting-started/train.csv\n",
      "/kaggle/input/nlp-getting-started/test.csv\n"
     ]
    }
   ],
   "source": [
    "# This Python 3 environment comes with many helpful analytics libraries installed\n",
    "# It is defined by the kaggle/python Docker image: https://github.com/kaggle/docker-python\n",
    "# For example, here's several helpful packages to load\n",
    "\n",
    "import numpy as np # linear algebra\n",
    "import pandas as pd # data processing, CSV file I/O (e.g. pd.read_csv)\n",
    "\n",
    "# Input data files are available in the read-only \"../input/\" directory\n",
    "# For example, running this (by clicking run or pressing Shift+Enter) will list all files under the input directory\n",
    "\n",
    "import os\n",
    "for dirname, _, filenames in os.walk('/kaggle/input'):\n",
    "    for filename in filenames:\n",
    "        print(os.path.join(dirname, filename))\n",
    "\n",
    "# You can write up to 20GB to the current directory (/kaggle/working/) that gets preserved as output when you create a version using \"Save & Run All\" \n",
    "# You can also write temporary files to /kaggle/temp/, but they won't be saved outside of the current session"
   ]
  },
  {
   "cell_type": "code",
   "execution_count": 2,
   "id": "e41b5676",
   "metadata": {
    "execution": {
     "iopub.execute_input": "2024-04-03T03:01:41.806760Z",
     "iopub.status.busy": "2024-04-03T03:01:41.806289Z",
     "iopub.status.idle": "2024-04-03T03:01:41.865995Z",
     "shell.execute_reply": "2024-04-03T03:01:41.864382Z"
    },
    "papermill": {
     "duration": 0.066581,
     "end_time": "2024-04-03T03:01:41.868826",
     "exception": false,
     "start_time": "2024-04-03T03:01:41.802245",
     "status": "completed"
    },
    "tags": []
   },
   "outputs": [
    {
     "data": {
      "text/html": [
       "<div>\n",
       "<style scoped>\n",
       "    .dataframe tbody tr th:only-of-type {\n",
       "        vertical-align: middle;\n",
       "    }\n",
       "\n",
       "    .dataframe tbody tr th {\n",
       "        vertical-align: top;\n",
       "    }\n",
       "\n",
       "    .dataframe thead th {\n",
       "        text-align: right;\n",
       "    }\n",
       "</style>\n",
       "<table border=\"1\" class=\"dataframe\">\n",
       "  <thead>\n",
       "    <tr style=\"text-align: right;\">\n",
       "      <th></th>\n",
       "      <th>id</th>\n",
       "      <th>keyword</th>\n",
       "      <th>location</th>\n",
       "      <th>text</th>\n",
       "      <th>target</th>\n",
       "    </tr>\n",
       "  </thead>\n",
       "  <tbody>\n",
       "    <tr>\n",
       "      <th>0</th>\n",
       "      <td>1</td>\n",
       "      <td>NaN</td>\n",
       "      <td>NaN</td>\n",
       "      <td>Our Deeds are the Reason of this #earthquake M...</td>\n",
       "      <td>1</td>\n",
       "    </tr>\n",
       "    <tr>\n",
       "      <th>1</th>\n",
       "      <td>4</td>\n",
       "      <td>NaN</td>\n",
       "      <td>NaN</td>\n",
       "      <td>Forest fire near La Ronge Sask. Canada</td>\n",
       "      <td>1</td>\n",
       "    </tr>\n",
       "    <tr>\n",
       "      <th>2</th>\n",
       "      <td>5</td>\n",
       "      <td>NaN</td>\n",
       "      <td>NaN</td>\n",
       "      <td>All residents asked to 'shelter in place' are ...</td>\n",
       "      <td>1</td>\n",
       "    </tr>\n",
       "    <tr>\n",
       "      <th>3</th>\n",
       "      <td>6</td>\n",
       "      <td>NaN</td>\n",
       "      <td>NaN</td>\n",
       "      <td>13,000 people receive #wildfires evacuation or...</td>\n",
       "      <td>1</td>\n",
       "    </tr>\n",
       "    <tr>\n",
       "      <th>4</th>\n",
       "      <td>7</td>\n",
       "      <td>NaN</td>\n",
       "      <td>NaN</td>\n",
       "      <td>Just got sent this photo from Ruby #Alaska as ...</td>\n",
       "      <td>1</td>\n",
       "    </tr>\n",
       "  </tbody>\n",
       "</table>\n",
       "</div>"
      ],
      "text/plain": [
       "   id keyword location                                               text  \\\n",
       "0   1     NaN      NaN  Our Deeds are the Reason of this #earthquake M...   \n",
       "1   4     NaN      NaN             Forest fire near La Ronge Sask. Canada   \n",
       "2   5     NaN      NaN  All residents asked to 'shelter in place' are ...   \n",
       "3   6     NaN      NaN  13,000 people receive #wildfires evacuation or...   \n",
       "4   7     NaN      NaN  Just got sent this photo from Ruby #Alaska as ...   \n",
       "\n",
       "   target  \n",
       "0       1  \n",
       "1       1  \n",
       "2       1  \n",
       "3       1  \n",
       "4       1  "
      ]
     },
     "execution_count": 2,
     "metadata": {},
     "output_type": "execute_result"
    }
   ],
   "source": [
    "train=pd.read_csv(\"/kaggle/input/nlp-getting-started/train.csv\")\n",
    "train.head()"
   ]
  },
  {
   "cell_type": "code",
   "execution_count": 3,
   "id": "1b794201",
   "metadata": {
    "execution": {
     "iopub.execute_input": "2024-04-03T03:01:41.878695Z",
     "iopub.status.busy": "2024-04-03T03:01:41.878248Z",
     "iopub.status.idle": "2024-04-03T03:01:41.907483Z",
     "shell.execute_reply": "2024-04-03T03:01:41.906691Z"
    },
    "papermill": {
     "duration": 0.036715,
     "end_time": "2024-04-03T03:01:41.909600",
     "exception": false,
     "start_time": "2024-04-03T03:01:41.872885",
     "status": "completed"
    },
    "tags": []
   },
   "outputs": [
    {
     "data": {
      "text/html": [
       "<div>\n",
       "<style scoped>\n",
       "    .dataframe tbody tr th:only-of-type {\n",
       "        vertical-align: middle;\n",
       "    }\n",
       "\n",
       "    .dataframe tbody tr th {\n",
       "        vertical-align: top;\n",
       "    }\n",
       "\n",
       "    .dataframe thead th {\n",
       "        text-align: right;\n",
       "    }\n",
       "</style>\n",
       "<table border=\"1\" class=\"dataframe\">\n",
       "  <thead>\n",
       "    <tr style=\"text-align: right;\">\n",
       "      <th></th>\n",
       "      <th>id</th>\n",
       "      <th>keyword</th>\n",
       "      <th>location</th>\n",
       "      <th>text</th>\n",
       "    </tr>\n",
       "  </thead>\n",
       "  <tbody>\n",
       "    <tr>\n",
       "      <th>0</th>\n",
       "      <td>0</td>\n",
       "      <td>NaN</td>\n",
       "      <td>NaN</td>\n",
       "      <td>Just happened a terrible car crash</td>\n",
       "    </tr>\n",
       "    <tr>\n",
       "      <th>1</th>\n",
       "      <td>2</td>\n",
       "      <td>NaN</td>\n",
       "      <td>NaN</td>\n",
       "      <td>Heard about #earthquake is different cities, s...</td>\n",
       "    </tr>\n",
       "    <tr>\n",
       "      <th>2</th>\n",
       "      <td>3</td>\n",
       "      <td>NaN</td>\n",
       "      <td>NaN</td>\n",
       "      <td>there is a forest fire at spot pond, geese are...</td>\n",
       "    </tr>\n",
       "    <tr>\n",
       "      <th>3</th>\n",
       "      <td>9</td>\n",
       "      <td>NaN</td>\n",
       "      <td>NaN</td>\n",
       "      <td>Apocalypse lighting. #Spokane #wildfires</td>\n",
       "    </tr>\n",
       "    <tr>\n",
       "      <th>4</th>\n",
       "      <td>11</td>\n",
       "      <td>NaN</td>\n",
       "      <td>NaN</td>\n",
       "      <td>Typhoon Soudelor kills 28 in China and Taiwan</td>\n",
       "    </tr>\n",
       "  </tbody>\n",
       "</table>\n",
       "</div>"
      ],
      "text/plain": [
       "   id keyword location                                               text\n",
       "0   0     NaN      NaN                 Just happened a terrible car crash\n",
       "1   2     NaN      NaN  Heard about #earthquake is different cities, s...\n",
       "2   3     NaN      NaN  there is a forest fire at spot pond, geese are...\n",
       "3   9     NaN      NaN           Apocalypse lighting. #Spokane #wildfires\n",
       "4  11     NaN      NaN      Typhoon Soudelor kills 28 in China and Taiwan"
      ]
     },
     "execution_count": 3,
     "metadata": {},
     "output_type": "execute_result"
    }
   ],
   "source": [
    "test=pd.read_csv(\"/kaggle/input/nlp-getting-started/test.csv\")\n",
    "test.head()"
   ]
  },
  {
   "cell_type": "code",
   "execution_count": 4,
   "id": "543864be",
   "metadata": {
    "execution": {
     "iopub.execute_input": "2024-04-03T03:01:41.918419Z",
     "iopub.status.busy": "2024-04-03T03:01:41.917818Z",
     "iopub.status.idle": "2024-04-03T03:01:41.927831Z",
     "shell.execute_reply": "2024-04-03T03:01:41.926876Z"
    },
    "papermill": {
     "duration": 0.016314,
     "end_time": "2024-04-03T03:01:41.929534",
     "exception": false,
     "start_time": "2024-04-03T03:01:41.913220",
     "status": "completed"
    },
    "tags": []
   },
   "outputs": [
    {
     "data": {
      "text/plain": [
       "id          False\n",
       "keyword      True\n",
       "location     True\n",
       "text        False\n",
       "target      False\n",
       "dtype: bool"
      ]
     },
     "execution_count": 4,
     "metadata": {},
     "output_type": "execute_result"
    }
   ],
   "source": [
    "train.isna().any()"
   ]
  },
  {
   "cell_type": "markdown",
   "id": "8b79eac4",
   "metadata": {
    "papermill": {
     "duration": 0.003352,
     "end_time": "2024-04-03T03:01:41.936498",
     "exception": false,
     "start_time": "2024-04-03T03:01:41.933146",
     "status": "completed"
    },
    "tags": []
   },
   "source": [
    "NO missing data in text column "
   ]
  },
  {
   "cell_type": "code",
   "execution_count": 5,
   "id": "f9ff1d9f",
   "metadata": {
    "execution": {
     "iopub.execute_input": "2024-04-03T03:01:41.945073Z",
     "iopub.status.busy": "2024-04-03T03:01:41.944741Z",
     "iopub.status.idle": "2024-04-03T03:01:43.274222Z",
     "shell.execute_reply": "2024-04-03T03:01:43.273329Z"
    },
    "papermill": {
     "duration": 1.336744,
     "end_time": "2024-04-03T03:01:43.276724",
     "exception": false,
     "start_time": "2024-04-03T03:01:41.939980",
     "status": "completed"
    },
    "tags": []
   },
   "outputs": [],
   "source": [
    "from sklearn.feature_extraction.text import CountVectorizer # This function helps you create your bag of words\n",
    "from sklearn.feature_extraction.text import TfidfTransformer # This function automatically normalizes your bag of words\n",
    "\n",
    "\n",
    "vectorizer = CountVectorizer(analyzer = \"word\", strip_accents=None, tokenizer = None,     # This is a instance for\n",
    "                             preprocessor = None, stop_words = None, max_features = 5000)  # creating bag of word\n",
    "train_features = vectorizer.fit_transform(train['text'])\n",
    "test_features = vectorizer.transform(test['text'])"
   ]
  },
  {
   "cell_type": "code",
   "execution_count": 6,
   "id": "5a4064b0",
   "metadata": {
    "execution": {
     "iopub.execute_input": "2024-04-03T03:01:43.285578Z",
     "iopub.status.busy": "2024-04-03T03:01:43.285264Z",
     "iopub.status.idle": "2024-04-03T03:01:43.304429Z",
     "shell.execute_reply": "2024-04-03T03:01:43.303595Z"
    },
    "papermill": {
     "duration": 0.025993,
     "end_time": "2024-04-03T03:01:43.306527",
     "exception": false,
     "start_time": "2024-04-03T03:01:43.280534",
     "status": "completed"
    },
    "tags": []
   },
   "outputs": [],
   "source": [
    "tfidfier = TfidfTransformer()\n",
    "tfidf = tfidfier.fit_transform(train_features)\n",
    "tfidf_test = tfidfier.transform(test_features)"
   ]
  },
  {
   "cell_type": "code",
   "execution_count": 7,
   "id": "473af704",
   "metadata": {
    "execution": {
     "iopub.execute_input": "2024-04-03T03:01:43.315194Z",
     "iopub.status.busy": "2024-04-03T03:01:43.314878Z",
     "iopub.status.idle": "2024-04-03T03:01:43.727750Z",
     "shell.execute_reply": "2024-04-03T03:01:43.726800Z"
    },
    "papermill": {
     "duration": 0.419954,
     "end_time": "2024-04-03T03:01:43.730155",
     "exception": false,
     "start_time": "2024-04-03T03:01:43.310201",
     "status": "completed"
    },
    "tags": []
   },
   "outputs": [],
   "source": [
    "x=tfidf.toarray()\n",
    "y=train['target']\n",
    "\n",
    "x_test=tfidf_test.toarray()"
   ]
  },
  {
   "cell_type": "code",
   "execution_count": 8,
   "id": "25751343",
   "metadata": {
    "execution": {
     "iopub.execute_input": "2024-04-03T03:01:43.739713Z",
     "iopub.status.busy": "2024-04-03T03:01:43.738967Z",
     "iopub.status.idle": "2024-04-03T03:02:06.340402Z",
     "shell.execute_reply": "2024-04-03T03:02:06.339095Z"
    },
    "papermill": {
     "duration": 22.608765,
     "end_time": "2024-04-03T03:02:06.342941",
     "exception": false,
     "start_time": "2024-04-03T03:01:43.734176",
     "status": "completed"
    },
    "tags": []
   },
   "outputs": [],
   "source": [
    "from sklearn.tree import DecisionTreeClassifier\n",
    "\n",
    "dtc = DecisionTreeClassifier()\n",
    "dtc.fit(x,y)\n",
    "predictions = dtc.predict(x_test)"
   ]
  },
  {
   "cell_type": "code",
   "execution_count": 9,
   "id": "bf03912b",
   "metadata": {
    "execution": {
     "iopub.execute_input": "2024-04-03T03:02:06.352143Z",
     "iopub.status.busy": "2024-04-03T03:02:06.351770Z",
     "iopub.status.idle": "2024-04-03T03:02:06.363865Z",
     "shell.execute_reply": "2024-04-03T03:02:06.362713Z"
    },
    "papermill": {
     "duration": 0.019014,
     "end_time": "2024-04-03T03:02:06.365887",
     "exception": false,
     "start_time": "2024-04-03T03:02:06.346873",
     "status": "completed"
    },
    "tags": []
   },
   "outputs": [
    {
     "name": "stdout",
     "output_type": "stream",
     "text": [
      "Your submission was successfully saved!\n"
     ]
    }
   ],
   "source": [
    "output = pd.DataFrame({'id': test.id, 'target': predictions})\n",
    "output.to_csv('submission.csv', index=False)\n",
    "print(\"Your submission was successfully saved!\")"
   ]
  }
 ],
 "metadata": {
  "kaggle": {
   "accelerator": "none",
   "dataSources": [
    {
     "databundleVersionId": 869809,
     "sourceId": 17777,
     "sourceType": "competition"
    }
   ],
   "dockerImageVersionId": 30673,
   "isGpuEnabled": false,
   "isInternetEnabled": true,
   "language": "python",
   "sourceType": "notebook"
  },
  "kernelspec": {
   "display_name": "Python 3",
   "language": "python",
   "name": "python3"
  },
  "language_info": {
   "codemirror_mode": {
    "name": "ipython",
    "version": 3
   },
   "file_extension": ".py",
   "mimetype": "text/x-python",
   "name": "python",
   "nbconvert_exporter": "python",
   "pygments_lexer": "ipython3",
   "version": "3.10.13"
  },
  "papermill": {
   "default_parameters": {},
   "duration": 28.521418,
   "end_time": "2024-04-03T03:02:06.990541",
   "environment_variables": {},
   "exception": null,
   "input_path": "__notebook__.ipynb",
   "output_path": "__notebook__.ipynb",
   "parameters": {},
   "start_time": "2024-04-03T03:01:38.469123",
   "version": "2.5.0"
  }
 },
 "nbformat": 4,
 "nbformat_minor": 5
}
